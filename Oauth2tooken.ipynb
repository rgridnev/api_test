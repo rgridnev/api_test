{
 "cells": [
  {
   "cell_type": "code",
   "execution_count": 100,
   "metadata": {},
   "outputs": [],
   "source": [
    "import requests, json, datetime, pandas as pd"
   ]
  },
  {
   "cell_type": "code",
   "execution_count": 59,
   "metadata": {},
   "outputs": [],
   "source": [
    "token_url = \"http://mosrepora02.evropolis.ru:8080/ords/wks01/oauth/token\"\n",
    "test_api_url = \"http://mosrepora02.evropolis.ru:8080/ords/wks01/api/\""
   ]
  },
  {
   "cell_type": "code",
   "execution_count": 66,
   "metadata": {},
   "outputs": [
    {
     "data": {
      "text/plain": [
       "'-ZZ0ru0pMDfTNg-DHXI3VQ..'"
      ]
     },
     "execution_count": 66,
     "metadata": {},
     "output_type": "execute_result"
    }
   ],
   "source": [
    "users = {\n",
    "    'che': {\n",
    "            'id': '-ZZ0ru0pMDfTNg-DHXI3VQ..',\n",
    "            'secret': 'hebPXNQjEW5YDefvjc2J9A..'\n",
    "        },\n",
    "    'banki': {\n",
    "            'id': 'Wute9o2Y7k24GBF0-L-ABg..',\n",
    "            'secret': 'ZovEIGLI5-iBKqT9rgfuRQ..'\n",
    "        }    \n",
    "    }\n",
    "\n",
    "users['che']['id']"
   ]
  },
  {
   "cell_type": "code",
   "execution_count": 41,
   "metadata": {},
   "outputs": [],
   "source": [
    "def GetToken(user):\n",
    "    data = {'grant_type': 'client_credentials'}\n",
    "    client_id = users[user]['id']\n",
    "    client_secret = users[user]['secret']\n",
    "\n",
    "    access_token_response = requests.post(token_url, data=data, verify=False, allow_redirects=False, auth=(client_id, client_secret))\n",
    "\n",
    "#     print (access_token_response.headers)\n",
    "#     print (access_token_response.text)\n",
    "\n",
    "    tokens = json.loads(access_token_response.text)\n",
    "    return tokens['access_token']"
   ]
  },
  {
   "cell_type": "code",
   "execution_count": 115,
   "metadata": {},
   "outputs": [],
   "source": [
    "class apirequest():\n",
    "    \"\"\"docstring\"\"\"\n",
    "    def __init__(self, user):\n",
    "        self.token = GetToken(user)\n",
    "        \n",
    "    def getsubject(self, subjisn):\n",
    "        resp = []\n",
    "        timebeg = datetime.datetime.now()\n",
    "        api_call_headers = {'Authorization': 'Bearer ' + self.token}\n",
    "        api_call_response = requests.get(test_api_url + 'subject/' + str(subjisn), headers=api_call_headers, verify=False)\n",
    "        subject = json.loads(api_call_response.text)\n",
    "        timeend = datetime.datetime.now()\n",
    "        \n",
    "        resp.append(api_call_response.status_code)\n",
    "        resp.append((timeend - timebeg).microseconds/1000)\n",
    "        resp.append(json.loads(api_call_response.text))\n",
    "        return resp"
   ]
  },
  {
   "cell_type": "code",
   "execution_count": 128,
   "metadata": {},
   "outputs": [
    {
     "data": {
      "text/plain": [
       "[200,\n",
       " 405.941,\n",
       " {'status': {'code': 'success', 'message': None},\n",
       "  'result': {'data': {'id': 445903407,\n",
       "    'lastname': 'Бочкарев',\n",
       "    'firstname': 'Сергей',\n",
       "    'parentname': 'Олегович',\n",
       "    'sex': 'М',\n",
       "    'birthday': '1988-07-03T00:00:00',\n",
       "    'latinname': None,\n",
       "    'drivingdatebeg': None,\n",
       "    'citizenship': 'RUS',\n",
       "    'address': [{'code': 2246,\n",
       "      'code_desc': 'Регистрация',\n",
       "      'text': 'Кемеровская Область Ленинск-Кузнецкий Город Пушкина',\n",
       "      'street_kladr_id': None}],\n",
       "    'contact': [{'code': 2243,\n",
       "      'code_desc': 'E-mail личный',\n",
       "      'text': 'Sergeyolegovichbocha@gmail.ru'}],\n",
       "    'document': [{'code': 1165,\n",
       "      'code_desc': 'Паспорт гражданина России',\n",
       "      'series': '3208',\n",
       "      'number': '541439',\n",
       "      'issue_date': '2008-07-22T00:00:00',\n",
       "      'issue_by': 'Отделением #1 ОУФМС России по Кемеровской областии в гор. Ленинске-Кузнецком'}]}}}]"
      ]
     },
     "execution_count": 128,
     "metadata": {},
     "output_type": "execute_result"
    }
   ],
   "source": [
    "api = apirequest('che')\n",
    "api.getsubject(445903407)"
   ]
  },
  {
   "cell_type": "code",
   "execution_count": 116,
   "metadata": {},
   "outputs": [],
   "source": [
    "test_users = [445903407, 445903412, 445903414]"
   ]
  },
  {
   "cell_type": "code",
   "execution_count": 130,
   "metadata": {},
   "outputs": [
    {
     "data": {
      "text/html": [
       "<div>\n",
       "<style scoped>\n",
       "    .dataframe tbody tr th:only-of-type {\n",
       "        vertical-align: middle;\n",
       "    }\n",
       "\n",
       "    .dataframe tbody tr th {\n",
       "        vertical-align: top;\n",
       "    }\n",
       "\n",
       "    .dataframe thead th {\n",
       "        text-align: right;\n",
       "    }\n",
       "</style>\n",
       "<table border=\"1\" class=\"dataframe\">\n",
       "  <thead>\n",
       "    <tr style=\"text-align: right;\">\n",
       "      <th></th>\n",
       "      <th>user</th>\n",
       "      <th>resp_time_ms</th>\n",
       "      <th>resp_status_code</th>\n",
       "      <th>resp_status_name</th>\n",
       "      <th>resp_status_error</th>\n",
       "      <th>subject_isn</th>\n",
       "    </tr>\n",
       "  </thead>\n",
       "  <tbody>\n",
       "  </tbody>\n",
       "</table>\n",
       "</div>"
      ],
      "text/plain": [
       "Empty DataFrame\n",
       "Columns: [user, resp_time_ms, resp_status_code, resp_status_name, resp_status_error, subject_isn]\n",
       "Index: []"
      ]
     },
     "execution_count": 130,
     "metadata": {},
     "output_type": "execute_result"
    }
   ],
   "source": [
    "results = pd.DataFrame(columns = ['user', \n",
    "                                  'resp_time_ms',\n",
    "                                  'resp_status_code',\n",
    "                                  'resp_status_name',\n",
    "                                  'resp_status_error',\n",
    "                                  'subject_isn'])\n",
    "results"
   ]
  },
  {
   "cell_type": "code",
   "execution_count": 131,
   "metadata": {},
   "outputs": [],
   "source": [
    "n=0\n",
    "for user in users.keys():\n",
    "    api = apirequest(user)\n",
    "    for isn in test_users:\n",
    "        resp = api.getsubject(isn)\n",
    "        results.loc[n] = {'user': user, \n",
    "                          'resp_time_ms': resp[1], \n",
    "                          'resp_status_code': resp[0], \n",
    "                          'resp_status_name': resp[2]['status']['code'], \n",
    "                          'resp_status_error': resp[2]['status']['message'], \n",
    "                          'subject_isn': isn}\n",
    "        n += 1\n",
    "        #print(resp[0:2])       \n",
    "    "
   ]
  },
  {
   "cell_type": "code",
   "execution_count": 132,
   "metadata": {},
   "outputs": [
    {
     "data": {
      "text/html": [
       "<div>\n",
       "<style scoped>\n",
       "    .dataframe tbody tr th:only-of-type {\n",
       "        vertical-align: middle;\n",
       "    }\n",
       "\n",
       "    .dataframe tbody tr th {\n",
       "        vertical-align: top;\n",
       "    }\n",
       "\n",
       "    .dataframe thead th {\n",
       "        text-align: right;\n",
       "    }\n",
       "</style>\n",
       "<table border=\"1\" class=\"dataframe\">\n",
       "  <thead>\n",
       "    <tr style=\"text-align: right;\">\n",
       "      <th></th>\n",
       "      <th>user</th>\n",
       "      <th>resp_time_ms</th>\n",
       "      <th>resp_status_code</th>\n",
       "      <th>resp_status_name</th>\n",
       "      <th>resp_status_error</th>\n",
       "      <th>subject_isn</th>\n",
       "    </tr>\n",
       "  </thead>\n",
       "  <tbody>\n",
       "    <tr>\n",
       "      <th>0</th>\n",
       "      <td>che</td>\n",
       "      <td>660.227</td>\n",
       "      <td>200</td>\n",
       "      <td>success</td>\n",
       "      <td>None</td>\n",
       "      <td>445903407</td>\n",
       "    </tr>\n",
       "    <tr>\n",
       "      <th>1</th>\n",
       "      <td>che</td>\n",
       "      <td>442.125</td>\n",
       "      <td>200</td>\n",
       "      <td>success</td>\n",
       "      <td>None</td>\n",
       "      <td>445903412</td>\n",
       "    </tr>\n",
       "    <tr>\n",
       "      <th>2</th>\n",
       "      <td>che</td>\n",
       "      <td>358.076</td>\n",
       "      <td>200</td>\n",
       "      <td>success</td>\n",
       "      <td>None</td>\n",
       "      <td>445903414</td>\n",
       "    </tr>\n",
       "    <tr>\n",
       "      <th>3</th>\n",
       "      <td>banki</td>\n",
       "      <td>417.876</td>\n",
       "      <td>200</td>\n",
       "      <td>success</td>\n",
       "      <td>None</td>\n",
       "      <td>445903407</td>\n",
       "    </tr>\n",
       "    <tr>\n",
       "      <th>4</th>\n",
       "      <td>banki</td>\n",
       "      <td>411.895</td>\n",
       "      <td>200</td>\n",
       "      <td>success</td>\n",
       "      <td>None</td>\n",
       "      <td>445903412</td>\n",
       "    </tr>\n",
       "    <tr>\n",
       "      <th>5</th>\n",
       "      <td>banki</td>\n",
       "      <td>512.661</td>\n",
       "      <td>200</td>\n",
       "      <td>success</td>\n",
       "      <td>None</td>\n",
       "      <td>445903414</td>\n",
       "    </tr>\n",
       "  </tbody>\n",
       "</table>\n",
       "</div>"
      ],
      "text/plain": [
       "    user  resp_time_ms resp_status_code resp_status_name resp_status_error  \\\n",
       "0    che       660.227              200          success              None   \n",
       "1    che       442.125              200          success              None   \n",
       "2    che       358.076              200          success              None   \n",
       "3  banki       417.876              200          success              None   \n",
       "4  banki       411.895              200          success              None   \n",
       "5  banki       512.661              200          success              None   \n",
       "\n",
       "  subject_isn  \n",
       "0   445903407  \n",
       "1   445903412  \n",
       "2   445903414  \n",
       "3   445903407  \n",
       "4   445903412  \n",
       "5   445903414  "
      ]
     },
     "execution_count": 132,
     "metadata": {},
     "output_type": "execute_result"
    }
   ],
   "source": [
    "results"
   ]
  },
  {
   "cell_type": "code",
   "execution_count": 127,
   "metadata": {},
   "outputs": [
    {
     "data": {
      "text/html": [
       "<div>\n",
       "<style scoped>\n",
       "    .dataframe tbody tr th:only-of-type {\n",
       "        vertical-align: middle;\n",
       "    }\n",
       "\n",
       "    .dataframe tbody tr th {\n",
       "        vertical-align: top;\n",
       "    }\n",
       "\n",
       "    .dataframe thead th {\n",
       "        text-align: right;\n",
       "    }\n",
       "</style>\n",
       "<table border=\"1\" class=\"dataframe\">\n",
       "  <thead>\n",
       "    <tr style=\"text-align: right;\">\n",
       "      <th></th>\n",
       "      <th>resp_time_ms</th>\n",
       "    </tr>\n",
       "  </thead>\n",
       "  <tbody>\n",
       "    <tr>\n",
       "      <th>count</th>\n",
       "      <td>6.000000</td>\n",
       "    </tr>\n",
       "    <tr>\n",
       "      <th>min</th>\n",
       "      <td>85.049000</td>\n",
       "    </tr>\n",
       "    <tr>\n",
       "      <th>max</th>\n",
       "      <td>933.422000</td>\n",
       "    </tr>\n",
       "    <tr>\n",
       "      <th>median</th>\n",
       "      <td>117.948500</td>\n",
       "    </tr>\n",
       "    <tr>\n",
       "      <th>mean</th>\n",
       "      <td>352.150833</td>\n",
       "    </tr>\n",
       "  </tbody>\n",
       "</table>\n",
       "</div>"
      ],
      "text/plain": [
       "        resp_time_ms\n",
       "count       6.000000\n",
       "min        85.049000\n",
       "max       933.422000\n",
       "median    117.948500\n",
       "mean      352.150833"
      ]
     },
     "execution_count": 127,
     "metadata": {},
     "output_type": "execute_result"
    }
   ],
   "source": [
    "results.agg({'resp_time_ms':['count', 'min', 'max', 'median', 'mean']})"
   ]
  }
 ],
 "metadata": {
  "kernelspec": {
   "display_name": "Python 3",
   "language": "python",
   "name": "python3"
  },
  "language_info": {
   "codemirror_mode": {
    "name": "ipython",
    "version": 3
   },
   "file_extension": ".py",
   "mimetype": "text/x-python",
   "name": "python",
   "nbconvert_exporter": "python",
   "pygments_lexer": "ipython3",
   "version": "3.7.6"
  }
 },
 "nbformat": 4,
 "nbformat_minor": 4
}
